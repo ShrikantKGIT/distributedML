{
  "nbformat": 4,
  "nbformat_minor": 0,
  "metadata": {
    "colab": {
      "provenance": [],
      "authorship_tag": "ABX9TyPBBZcVCMwOiL4DdTqyZ38D",
      "include_colab_link": true
    },
    "kernelspec": {
      "name": "python3",
      "display_name": "Python 3"
    },
    "language_info": {
      "name": "python"
    }
  },
  "cells": [
    {
      "cell_type": "markdown",
      "metadata": {
        "id": "view-in-github",
        "colab_type": "text"
      },
      "source": [
        "<a href=\"https://colab.research.google.com/github/ShrikantKGIT/distributedML/blob/main/GNN1.ipynb\" target=\"_parent\"><img src=\"https://colab.research.google.com/assets/colab-badge.svg\" alt=\"Open In Colab\"/></a>"
      ]
    },
    {
      "cell_type": "code",
      "source": [
        "import tensorflow as tf\n",
        "from tensorflow.keras import layers, Model\n",
        "import numpy as np\n",
        "import networkx as nx\n",
        "import random\n",
        "import matplotlib.pyplot as plt\n",
        "\n",
        "# Generating 1000 sample transactions with random amounts between 10 and 100\n",
        "transactions = [\n",
        "    (f\"Node_{random.randint(1, 50)}\", f\"Node_{random.randint(1, 50)}\", {'amount': random.randint(10, 100)})\n",
        "    for _ in range(1000)\n",
        "]\n",
        "\n",
        "# Create a pandas DataFrame from the generated transactions\n",
        "df = pd.DataFrame(transactions, columns=['source', 'target', 'amount'])\n",
        "\n",
        "# Create a directed graph\n",
        "G = nx.from_pandas_edgelist(df, 'source', 'target', ['amount'], create_using=nx.DiGraph())\n",
        "\n",
        "# Convert the NetworkX graph to adjacency matrix with float32 data type\n",
        "adj_matrix = nx.adjacency_matrix(G).astype(np.float32).toarray()\n",
        "\n",
        "# Create node features (random features for demonstration)\n",
        "num_nodes = adj_matrix.shape[0]\n",
        "node_features = np.random.rand(num_nodes, 16).astype(np.float32)\n",
        "\n",
        "# Define a simple Graph Convolutional Network (GCN) model using TensorFlow Keras\n",
        "class SimpleGCN(Model):\n",
        "    def __init__(self):\n",
        "        super(SimpleGCN, self).__init__()\n",
        "        self.dense1 = layers.Dense(32, activation='relu')\n",
        "        self.dense2 = layers.Dense(16, activation='relu')\n",
        "\n",
        "    def call(self, inputs):\n",
        "        x, A = inputs\n",
        "        x = tf.matmul(A, x)  # Graph convolution\n",
        "        x = self.dense1(x)\n",
        "        x = self.dense2(x)\n",
        "        return x\n",
        "\n",
        "# Instantiate the GCN model\n",
        "gcn_model = SimpleGCN()\n",
        "\n",
        "# Compile the model\n",
        "gcn_model.compile(optimizer='adam', loss='mse')\n",
        "\n",
        "# Train the model (input: node features, adjacency matrix; output: node embeddings)\n",
        "history = gcn_model.fit([node_features, adj_matrix], node_features, epochs=50, batch_size=num_nodes, verbose=1)\n",
        "\n",
        "# Extract node embeddings\n",
        "node_embeddings = gcn_model([node_features, adj_matrix]).numpy()\n",
        "\n",
        "# Visualize node embeddings (2D visualization using PCA, t-SNE, or other methods)\n",
        "# Visualization code here...\n",
        "\n",
        "# Optional: Plot loss curve during training\n",
        "plt.plot(history.history['loss'])\n",
        "plt.title('Model Loss')\n",
        "plt.xlabel('Epochs')\n",
        "plt.ylabel('Loss')\n",
        "plt.show()\n"
      ],
      "metadata": {
        "colab": {
          "base_uri": "https://localhost:8080/",
          "height": 1000
        },
        "id": "GQMTMW3w2sEl",
        "outputId": "88c309a8-27f5-40a9-8e66-6b1e3ffd78ba"
      },
      "execution_count": 9,
      "outputs": [
        {
          "output_type": "stream",
          "name": "stdout",
          "text": [
            "Epoch 1/50\n",
            "1/1 [==============================] - 0s 437ms/step - loss: 18.5615\n",
            "Epoch 2/50\n",
            "1/1 [==============================] - 0s 11ms/step - loss: 17.3743\n",
            "Epoch 3/50\n",
            "1/1 [==============================] - 0s 13ms/step - loss: 16.5340\n",
            "Epoch 4/50\n",
            "1/1 [==============================] - 0s 8ms/step - loss: 14.5711\n",
            "Epoch 5/50\n",
            "1/1 [==============================] - 0s 10ms/step - loss: 13.6697\n",
            "Epoch 6/50\n",
            "1/1 [==============================] - 0s 9ms/step - loss: 12.8707\n",
            "Epoch 7/50\n",
            "1/1 [==============================] - 0s 9ms/step - loss: 11.8072\n",
            "Epoch 8/50\n",
            "1/1 [==============================] - 0s 7ms/step - loss: 11.3599\n",
            "Epoch 9/50\n",
            "1/1 [==============================] - 0s 8ms/step - loss: 9.7118\n",
            "Epoch 10/50\n",
            "1/1 [==============================] - 0s 8ms/step - loss: 9.2925\n",
            "Epoch 11/50\n",
            "1/1 [==============================] - 0s 10ms/step - loss: 8.5971\n",
            "Epoch 12/50\n",
            "1/1 [==============================] - 0s 11ms/step - loss: 7.5987\n",
            "Epoch 13/50\n",
            "1/1 [==============================] - 0s 11ms/step - loss: 7.0950\n",
            "Epoch 14/50\n",
            "1/1 [==============================] - 0s 8ms/step - loss: 6.2767\n",
            "Epoch 15/50\n",
            "1/1 [==============================] - 0s 9ms/step - loss: 5.8618\n",
            "Epoch 16/50\n",
            "1/1 [==============================] - 0s 9ms/step - loss: 5.1852\n",
            "Epoch 17/50\n",
            "1/1 [==============================] - 0s 8ms/step - loss: 4.6642\n",
            "Epoch 18/50\n",
            "1/1 [==============================] - 0s 8ms/step - loss: 4.2793\n",
            "Epoch 19/50\n",
            "1/1 [==============================] - 0s 9ms/step - loss: 3.6499\n",
            "Epoch 20/50\n",
            "1/1 [==============================] - 0s 9ms/step - loss: 3.3292\n",
            "Epoch 21/50\n",
            "1/1 [==============================] - 0s 12ms/step - loss: 2.8761\n",
            "Epoch 22/50\n",
            "1/1 [==============================] - 0s 7ms/step - loss: 2.5323\n",
            "Epoch 23/50\n",
            "1/1 [==============================] - 0s 10ms/step - loss: 2.1407\n",
            "Epoch 24/50\n",
            "1/1 [==============================] - 0s 7ms/step - loss: 1.9120\n",
            "Epoch 25/50\n",
            "1/1 [==============================] - 0s 7ms/step - loss: 1.6933\n",
            "Epoch 26/50\n",
            "1/1 [==============================] - 0s 10ms/step - loss: 1.4068\n",
            "Epoch 27/50\n",
            "1/1 [==============================] - 0s 11ms/step - loss: 1.2537\n",
            "Epoch 28/50\n",
            "1/1 [==============================] - 0s 7ms/step - loss: 0.9580\n",
            "Epoch 29/50\n",
            "1/1 [==============================] - 0s 14ms/step - loss: 0.7736\n",
            "Epoch 30/50\n",
            "1/1 [==============================] - 0s 7ms/step - loss: 0.7892\n",
            "Epoch 31/50\n",
            "1/1 [==============================] - 0s 7ms/step - loss: 0.6016\n",
            "Epoch 32/50\n",
            "1/1 [==============================] - 0s 8ms/step - loss: 0.5311\n",
            "Epoch 33/50\n",
            "1/1 [==============================] - 0s 11ms/step - loss: 0.4335\n",
            "Epoch 34/50\n",
            "1/1 [==============================] - 0s 8ms/step - loss: 0.3812\n",
            "Epoch 35/50\n",
            "1/1 [==============================] - 0s 10ms/step - loss: 0.3778\n",
            "Epoch 36/50\n",
            "1/1 [==============================] - 0s 7ms/step - loss: 0.3523\n",
            "Epoch 37/50\n",
            "1/1 [==============================] - 0s 7ms/step - loss: 0.3496\n",
            "Epoch 38/50\n",
            "1/1 [==============================] - 0s 9ms/step - loss: 0.3213\n",
            "Epoch 39/50\n",
            "1/1 [==============================] - 0s 6ms/step - loss: 0.3005\n",
            "Epoch 40/50\n",
            "1/1 [==============================] - 0s 7ms/step - loss: 0.3060\n",
            "Epoch 41/50\n",
            "1/1 [==============================] - 0s 6ms/step - loss: 0.2956\n",
            "Epoch 42/50\n",
            "1/1 [==============================] - 0s 11ms/step - loss: 0.3105\n",
            "Epoch 43/50\n",
            "1/1 [==============================] - 0s 15ms/step - loss: 0.2960\n",
            "Epoch 44/50\n",
            "1/1 [==============================] - 0s 7ms/step - loss: 0.3066\n",
            "Epoch 45/50\n",
            "1/1 [==============================] - 0s 7ms/step - loss: 0.2952\n",
            "Epoch 46/50\n",
            "1/1 [==============================] - 0s 12ms/step - loss: 0.3008\n",
            "Epoch 47/50\n",
            "1/1 [==============================] - 0s 6ms/step - loss: 0.2897\n",
            "Epoch 48/50\n",
            "1/1 [==============================] - 0s 6ms/step - loss: 0.2978\n",
            "Epoch 49/50\n",
            "1/1 [==============================] - 0s 10ms/step - loss: 0.3050\n",
            "Epoch 50/50\n",
            "1/1 [==============================] - 0s 6ms/step - loss: 0.2964\n"
          ]
        },
        {
          "output_type": "display_data",
          "data": {
            "text/plain": [
              "<Figure size 640x480 with 1 Axes>"
            ],
            "image/png": "[encoded data removed]"
          },
          "metadata": {}
        }
      ]
    },
    {
      "cell_type": "code",
      "source": [
        "# Assuming 'gcn_model' is your trained Graph Convolutional Network model\n",
        "\n",
        "# Generate synthetic node embeddings using the trained model\n",
        "synthetic_node_embeddings = gcn_model.predict([node_features, adj_matrix])\n",
        "\n",
        "# Optionally, visualize or use the synthetic embeddings for downstream tasks\n",
        "print(\"Synthetic Node Embeddings:\")\n",
        "print(synthetic_node_embeddings)\n"
      ],
      "metadata": {
        "colab": {
          "base_uri": "https://localhost:8080/",
          "height": 1000
        },
        "id": "EoHy2Ry7A3Dh",
        "outputId": "f833848a-c79e-462c-e682-ad67f3e56959"
      },
      "execution_count": 11,
      "outputs": [
        {
          "output_type": "error",
          "ename": "InvalidArgumentError",
          "evalue": "ignored",
          "traceback": [
            "\u001b[0;31m---------------------------------------------------------------------------\u001b[0m",
            "\u001b[0;31mInvalidArgumentError\u001b[0m                      Traceback (most recent call last)",
            "\u001b[0;32m<ipython-input-11-06a6d588cea4>\u001b[0m in \u001b[0;36m<cell line: 4>\u001b[0;34m()\u001b[0m\n\u001b[1;32m      2\u001b[0m \u001b[0;34m\u001b[0m\u001b[0m\n\u001b[1;32m      3\u001b[0m \u001b[0;31m# Generate synthetic node embeddings using the trained model\u001b[0m\u001b[0;34m\u001b[0m\u001b[0;34m\u001b[0m\u001b[0m\n\u001b[0;32m----> 4\u001b[0;31m \u001b[0msynthetic_node_embeddings\u001b[0m \u001b[0;34m=\u001b[0m \u001b[0mgcn_model\u001b[0m\u001b[0;34m.\u001b[0m\u001b[0mpredict\u001b[0m\u001b[0;34m(\u001b[0m\u001b[0;34m[\u001b[0m\u001b[0mnode_features\u001b[0m\u001b[0;34m,\u001b[0m \u001b[0madj_matrix\u001b[0m\u001b[0;34m]\u001b[0m\u001b[0;34m)\u001b[0m\u001b[0;34m\u001b[0m\u001b[0;34m\u001b[0m\u001b[0m\n\u001b[0m\u001b[1;32m      5\u001b[0m \u001b[0;34m\u001b[0m\u001b[0m\n\u001b[1;32m      6\u001b[0m \u001b[0;31m# Optionally, visualize or use the synthetic embeddings for downstream tasks\u001b[0m\u001b[0;34m\u001b[0m\u001b[0;34m\u001b[0m\u001b[0m\n",
            "\u001b[0;32m/usr/local/lib/python3.10/dist-packages/keras/src/utils/traceback_utils.py\u001b[0m in \u001b[0;36merror_handler\u001b[0;34m(*args, **kwargs)\u001b[0m\n\u001b[1;32m     68\u001b[0m             \u001b[0;31m# To get the full stack trace, call:\u001b[0m\u001b[0;34m\u001b[0m\u001b[0;34m\u001b[0m\u001b[0m\n\u001b[1;32m     69\u001b[0m             \u001b[0;31m# `tf.debugging.disable_traceback_filtering()`\u001b[0m\u001b[0;34m\u001b[0m\u001b[0;34m\u001b[0m\u001b[0m\n\u001b[0;32m---> 70\u001b[0;31m             \u001b[0;32mraise\u001b[0m \u001b[0me\u001b[0m\u001b[0;34m.\u001b[0m\u001b[0mwith_traceback\u001b[0m\u001b[0;34m(\u001b[0m\u001b[0mfiltered_tb\u001b[0m\u001b[0;34m)\u001b[0m \u001b[0;32mfrom\u001b[0m \u001b[0;32mNone\u001b[0m\u001b[0;34m\u001b[0m\u001b[0;34m\u001b[0m\u001b[0m\n\u001b[0m\u001b[1;32m     71\u001b[0m         \u001b[0;32mfinally\u001b[0m\u001b[0;34m:\u001b[0m\u001b[0;34m\u001b[0m\u001b[0;34m\u001b[0m\u001b[0m\n\u001b[1;32m     72\u001b[0m             \u001b[0;32mdel\u001b[0m \u001b[0mfiltered_tb\u001b[0m\u001b[0;34m\u001b[0m\u001b[0;34m\u001b[0m\u001b[0m\n",
            "\u001b[0;32m/usr/local/lib/python3.10/dist-packages/tensorflow/python/eager/execute.py\u001b[0m in \u001b[0;36mquick_execute\u001b[0;34m(op_name, num_outputs, inputs, attrs, ctx, name)\u001b[0m\n\u001b[1;32m     58\u001b[0m         \u001b[0;32mfor\u001b[0m \u001b[0mt\u001b[0m \u001b[0;32min\u001b[0m \u001b[0minputs\u001b[0m\u001b[0;34m\u001b[0m\u001b[0;34m\u001b[0m\u001b[0m\n\u001b[1;32m     59\u001b[0m     ]\n\u001b[0;32m---> 60\u001b[0;31m     tensors = pywrap_tfe.TFE_Py_Execute(ctx._handle, device_name, op_name,\n\u001b[0m\u001b[1;32m     61\u001b[0m                                         inputs, attrs, num_outputs)\n\u001b[1;32m     62\u001b[0m   \u001b[0;32mexcept\u001b[0m \u001b[0mcore\u001b[0m\u001b[0;34m.\u001b[0m\u001b[0m_NotOkStatusException\u001b[0m \u001b[0;32mas\u001b[0m \u001b[0me\u001b[0m\u001b[0;34m:\u001b[0m\u001b[0;34m\u001b[0m\u001b[0;34m\u001b[0m\u001b[0m\n",
            "\u001b[0;31mInvalidArgumentError\u001b[0m: Graph execution error:\n\nDetected at node simple_gcn_3/MatMul defined at (most recent call last):\n  File \"/usr/lib/python3.10/runpy.py\", line 196, in _run_module_as_main\n\n  File \"/usr/lib/python3.10/runpy.py\", line 86, in _run_code\n\n  File \"/usr/local/lib/python3.10/dist-packages/colab_kernel_launcher.py\", line 37, in <module>\n\n  File \"/usr/local/lib/python3.10/dist-packages/traitlets/config/application.py\", line 992, in launch_instance\n\n  File \"/usr/local/lib/python3.10/dist-packages/ipykernel/kernelapp.py\", line 619, in start\n\n  File \"/usr/local/lib/python3.10/dist-packages/tornado/platform/asyncio.py\", line 195, in start\n\n  File \"/usr/lib/python3.10/asyncio/base_events.py\", line 603, in run_forever\n\n  File \"/usr/lib/python3.10/asyncio/base_events.py\", line 1909, in _run_once\n\n  File \"/usr/lib/python3.10/asyncio/events.py\", line 80, in _run\n\n  File \"/usr/local/lib/python3.10/dist-packages/tornado/ioloop.py\", line 685, in <lambda>\n\n  File \"/usr/local/lib/python3.10/dist-packages/tornado/ioloop.py\", line 738, in _run_callback\n\n  File \"/usr/local/lib/python3.10/dist-packages/tornado/gen.py\", line 825, in inner\n\n  File \"/usr/local/lib/python3.10/dist-packages/tornado/gen.py\", line 786, in run\n\n  File \"/usr/local/lib/python3.10/dist-packages/ipykernel/kernelbase.py\", line 361, in process_one\n\n  File \"/usr/local/lib/python3.10/dist-packages/tornado/gen.py\", line 234, in wrapper\n\n  File \"/usr/local/lib/python3.10/dist-packages/ipykernel/kernelbase.py\", line 261, in dispatch_shell\n\n  File \"/usr/local/lib/python3.10/dist-packages/tornado/gen.py\", line 234, in wrapper\n\n  File \"/usr/local/lib/python3.10/dist-packages/ipykernel/kernelbase.py\", line 539, in execute_request\n\n  File \"/usr/local/lib/python3.10/dist-packages/tornado/gen.py\", line 234, in wrapper\n\n  File \"/usr/local/lib/python3.10/dist-packages/ipykernel/ipkernel.py\", line 302, in do_execute\n\n  File \"/usr/local/lib/python3.10/dist-packages/ipykernel/zmqshell.py\", line 539, in run_cell\n\n  File \"/usr/local/lib/python3.10/dist-packages/IPython/core/interactiveshell.py\", line 2975, in run_cell\n\n  File \"/usr/local/lib/python3.10/dist-packages/IPython/core/interactiveshell.py\", line 3030, in _run_cell\n\n  File \"/usr/local/lib/python3.10/dist-packages/IPython/core/async_helpers.py\", line 78, in _pseudo_sync_runner\n\n  File \"/usr/local/lib/python3.10/dist-packages/IPython/core/interactiveshell.py\", line 3257, in run_cell_async\n\n  File \"/usr/local/lib/python3.10/dist-packages/IPython/core/interactiveshell.py\", line 3473, in run_ast_nodes\n\n  File \"/usr/local/lib/python3.10/dist-packages/IPython/core/interactiveshell.py\", line 3553, in run_code\n\n  File \"<ipython-input-10-06a6d588cea4>\", line 4, in <cell line: 4>\n\n  File \"/usr/local/lib/python3.10/dist-packages/keras/src/utils/traceback_utils.py\", line 65, in error_handler\n\n  File \"/usr/local/lib/python3.10/dist-packages/keras/src/engine/training.py\", line 2631, in predict\n\n  File \"/usr/local/lib/python3.10/dist-packages/keras/src/engine/training.py\", line 2416, in predict_function\n\n  File \"/usr/local/lib/python3.10/dist-packages/keras/src/engine/training.py\", line 2401, in step_function\n\n  File \"/usr/local/lib/python3.10/dist-packages/keras/src/engine/training.py\", line 2389, in run_step\n\n  File \"/usr/local/lib/python3.10/dist-packages/keras/src/engine/training.py\", line 2357, in predict_step\n\n  File \"/usr/local/lib/python3.10/dist-packages/keras/src/utils/traceback_utils.py\", line 65, in error_handler\n\n  File \"/usr/local/lib/python3.10/dist-packages/keras/src/engine/training.py\", line 589, in __call__\n\n  File \"/usr/local/lib/python3.10/dist-packages/keras/src/utils/traceback_utils.py\", line 65, in error_handler\n\n  File \"/usr/local/lib/python3.10/dist-packages/keras/src/engine/base_layer.py\", line 1149, in __call__\n\n  File \"/usr/local/lib/python3.10/dist-packages/keras/src/utils/traceback_utils.py\", line 96, in error_handler\n\n  File \"<ipython-input-7-2b1583c94b46>\", line 36, in call\n\nMatrix size-incompatible: In[0]: [32,50], In[1]: [32,16]\n\t [[{{node simple_gcn_3/MatMul}}]] [Op:__inference_predict_function_2699]"
          ]
        }
      ]
    }
  ]
}